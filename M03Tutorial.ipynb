{
 "cells": [
  {
   "cell_type": "code",
   "execution_count": 2,
   "id": "b91508d6-bb55-42df-ac7a-ce42f2cafaac",
   "metadata": {},
   "outputs": [],
   "source": [
    "#Sort an Array of 0s, 1s, and 2s\n",
    "#User function Template for python3\n",
    "\n",
    "class Solution:\n",
    "    def sort012(self,arr,n):\n",
    "        # code here\n",
    "        left, right = 0, len(arr) - 1\n",
    "        i = 0\n",
    "        \n",
    "        def swap(i,j):\n",
    "            temp = arr[i]\n",
    "            arr[i] = arr[j]\n",
    "            arr[j] = temp\n",
    "        \n",
    "        while i <= right:\n",
    "            if arr[i] == 0:\n",
    "                swap(left,i)\n",
    "                left += 1\n",
    "            elif arr[i] == 2:\n",
    "                swap(i, right)\n",
    "                right -= 1\n",
    "                i -= 1\n",
    "            i+=1\n",
    "            \n"
   ]
  },
  {
   "cell_type": "code",
   "execution_count": null,
   "id": "d63a3da1-c5ea-4499-8014-ab8ed4a3eeea",
   "metadata": {},
   "outputs": [],
   "source": []
  },
  {
   "cell_type": "code",
   "execution_count": null,
   "id": "7501f9ca-a446-4b8a-a110-bb4096883ba6",
   "metadata": {},
   "outputs": [],
   "source": [
    "#Binary Search\n",
    "#User function template for Python\n",
    "\n",
    "class Solution:\t\n",
    "\tdef binarysearch(self, arr, n, k):\n",
    "\t\t# code here\n",
    "\t\tindex = 0\n",
    "\t\twhile index < n:\n",
    "\t\t    if arr[index] == k:\n",
    "\t\t        return index\n",
    "\t\t        break\n",
    "\t        else:\n",
    "\t            index += 1\n",
    "\t            \n",
    "\t    return -1"
   ]
  }
 ],
 "metadata": {
  "kernelspec": {
   "display_name": "Python 3 (ipykernel)",
   "language": "python",
   "name": "python3"
  },
  "language_info": {
   "codemirror_mode": {
    "name": "ipython",
    "version": 3
   },
   "file_extension": ".py",
   "mimetype": "text/x-python",
   "name": "python",
   "nbconvert_exporter": "python",
   "pygments_lexer": "ipython3",
   "version": "3.11.7"
  }
 },
 "nbformat": 4,
 "nbformat_minor": 5
}
